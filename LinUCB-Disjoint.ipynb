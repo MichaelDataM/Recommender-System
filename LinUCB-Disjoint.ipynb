{
 "cells": [
  {
   "cell_type": "code",
   "execution_count": 22,
   "id": "cab269d4",
   "metadata": {},
   "outputs": [],
   "source": [
    "import numpy as np\n",
    "import pandas as pd\n",
    "import matplotlib.pyplot as plt"
   ]
  },
  {
   "cell_type": "code",
   "execution_count": 23,
   "id": "55fa17de",
   "metadata": {},
   "outputs": [],
   "source": [
    "class linucb_disjoint_arm():\n",
    "    def __init__(self,arm_index,d,alpha):\n",
    "        # track arm inde\n",
    "        self.arm_index = arm_index\n",
    "        # keep track of alpha\n",
    "        self.alpha = alpha\n",
    "        # A:(d*d)matrix = D_a.T * D_a + I_d\n",
    "        # The inverse of A is used in ridge regression\n",
    "        self.A = np.identity(d)\n",
    "        \n",
    "        # b:(d*1) corresponding repsonse vector\n",
    "        # Equals to D_a.T * c_a in ridge regression\n",
    "        self.b = np.zeros([d,1])\n",
    "        \n",
    "    def calc_UCB(self,x_array):\n",
    "        # Find A inverse for ridge regression\n",
    "        A_inv = np.linalg.inv(self.A)\n",
    "        self.theta = np.dot(A_inv,self.b)\n",
    "        \n",
    "        # reshape covariates input into (d*1) shape vector\n",
    "        x = x_array.reshape([-1,1])\n",
    "        \n",
    "        # find ucb based on a formulation (mean + std_dev)\n",
    "        p = np.dot(self.theta.T,x)+self.alpha*np.sqrt(np.dot(x.T, np.dot(A_inv,x)))\n",
    "        \n",
    "        return p\n",
    "    \n",
    "    def reward_update(self,reward,x_array):\n",
    "        # Reshape covariates input into (d*1) shape vecor\n",
    "        x = x_array.reshape([-1,1])\n",
    "        self.A += np.dot(x,x.T)\n",
    "        \n",
    "        # Update b which is (d*1) vector\n",
    "        self.b += reward*x"
   ]
  },
  {
   "cell_type": "code",
   "execution_count": 24,
   "id": "513fd705",
   "metadata": {},
   "outputs": [],
   "source": [
    "class linucb_policy():\n",
    "    def __init__(self, K_arms, d, alpha):\n",
    "        self.K_arms = K_arms\n",
    "        self.linucb_arms = [linucb_disjoint_arm(arm_index = i, d = d, alpha = alpha) for i in range(K_arms)]\n",
    "        \n",
    "        \n",
    "    def select_arm(self, x_array):\n",
    "        # Initiate ucb to be 0\n",
    "        highest_ucb = -1\n",
    "        \n",
    "        # Track index of arms to be selected on if they have the max UCB.\n",
    "        candidate_arms = []\n",
    "        \n",
    "        for arm_index in range(self.K_arms):\n",
    "            # Calculate ucb based on each arm using current covariates at time t\n",
    "            arm_ucb = self.linucb_arms[arm_index].calc_UCB(x_array)\n",
    "            \n",
    "            # If current arm is highest than current highest_ucb\n",
    "            if arm_ucb > highest_ucb:\n",
    "                \n",
    "                # Set new max ucb\n",
    "                highest_ucb = arm_ucb\n",
    "                \n",
    "                # Reset candidate_arms list with new entry based on current arm\n",
    "                candidate_arms = [arm_index]\n",
    "\n",
    "            # If there is a tie, append to candidate_arms\n",
    "            if arm_ucb == highest_ucb:\n",
    "                \n",
    "                candidate_arms.append(arm_index)\n",
    "            \n",
    "        # Choose based on candidate_arms randomly (tie breaker)\n",
    "        chosen_arm = np.random.choice(candidate_arms)\n",
    "        \n",
    "        return chosen_arm"
   ]
  },
  {
   "cell_type": "code",
   "execution_count": 25,
   "id": "d17693e2",
   "metadata": {},
   "outputs": [],
   "source": [
    "def ctr_simulator(K_arms, d, alpha, data_path):\n",
    "    # Initiate policy\n",
    "    linucb_policy_object = linucb_policy(K_arms = K_arms, d = d, alpha = alpha)\n",
    "    \n",
    "    # Instantiate trackers\n",
    "    aligned_time_steps = 0\n",
    "    cumulative_rewards = 0\n",
    "    aligned_ctr = []\n",
    "    unaligned_ctr = [] # for unaligned time steps\n",
    "    \n",
    "    \n",
    "    # Open data\n",
    "    with open(data_path, \"r\") as f:\n",
    "        for line_data in f:\n",
    "            # 1st column: Logged data arm. \n",
    "            # Integer data type\n",
    "            data_arm = int(line_data.split()[0])\n",
    "            # 2nd column: Logged data reward for logged chosen arm\n",
    "            # Float data type\n",
    "            data_reward = float(line_data.split()[1])\n",
    "            # 3rd columns onwards: 100 covariates. Keep in array of dimensions (100,) with float data type\n",
    "            covariate_string_list = line_data.split()[2:]\n",
    "            data_x_array = np.array([float(covariate_elem) for covariate_elem in covariate_string_list])\n",
    "            # Find policy's chosen arm based on input covariates at current time step\n",
    "            arm_index = linucb_policy_object.select_arm(data_x_array)\n",
    "            # Check if arm_index is the same as data_arm (ie same actions were chosen)\n",
    "            # Note that data_arms index range from 1 to 10 while policy arms index range from 0 to 9.\n",
    "            if arm_index + 1 == data_arm:\n",
    "\n",
    "                # Use reward information for the chosen arm to update\n",
    "                linucb_policy_object.linucb_arms[arm_index].reward_update(data_reward, data_x_array)\n",
    "\n",
    "                # For CTR calculation\n",
    "                aligned_time_steps += 1\n",
    "                cumulative_rewards += data_reward\n",
    "                aligned_ctr.append(cumulative_rewards/aligned_time_steps)   \n",
    "        return (aligned_time_steps, cumulative_rewards, aligned_ctr, linucb_policy_object)\n"
   ]
  },
  {
   "cell_type": "code",
   "execution_count": 76,
   "id": "c3bdf2a9",
   "metadata": {},
   "outputs": [
    {
     "data": {
      "text/plain": [
       "[<matplotlib.lines.Line2D at 0x1436fe590>]"
      ]
     },
     "execution_count": 76,
     "metadata": {},
     "output_type": "execute_result"
    },
    {
     "data": {
      "image/png": "[encoded data removed]",
      "text/plain": [
       "<Figure size 640x480 with 1 Axes>"
      ]
     },
     "metadata": {},
     "output_type": "display_data"
    }
   ],
   "source": [
    "alpha_input = 1.5\n",
    "data_path = \"/Users/duorouli/Downloads/news_dataset.txt\"\n",
    "aligned_time_steps, cum_rewards, aligned_ctr, policy = ctr_simulator(K_arms = 10, d = 100, alpha = alpha_input, data_path = data_path)\n",
    "plt.plot(aligned_ctr)"
   ]
  },
  {
   "cell_type": "code",
   "execution_count": null,
   "id": "70166eaf",
   "metadata": {},
   "outputs": [],
   "source": []
  }
 ],
 "metadata": {
  "kernelspec": {
   "display_name": "Python 3 (ipykernel)",
   "language": "python",
   "name": "python3"
  },
  "language_info": {
   "codemirror_mode": {
    "name": "ipython",
    "version": 3
   },
   "file_extension": ".py",
   "mimetype": "text/x-python",
   "name": "python",
   "nbconvert_exporter": "python",
   "pygments_lexer": "ipython3",
   "version": "3.11.4"
  }
 },
 "nbformat": 4,
 "nbformat_minor": 5
}
